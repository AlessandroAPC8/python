{
 "cells": [
  {
   "cell_type": "markdown",
   "metadata": {},
   "source": [
    "# PROBLEMAS DIVERSOS"
   ]
  },
  {
   "cell_type": "markdown",
   "metadata": {},
   "source": [
    "<h3>1.</h3>\n",
    "Escribí un programa que solicite al usuario ingresar la cantidad de kilómetros recorridos por una motocicleta y la cantidad de litros de combustible que consumió durante ese recorrido. Mostrar el consumo de combustible por kilómetro."
   ]
  },
  {
   "cell_type": "markdown",
   "metadata": {},
   "source": [
    "<code>Kilómetros recorridos: 260\n",
    "Litros de combustible gastados: 12.5\n",
    "El consumo por kilómetro es de 20.8<code>"
   ]
  },
  {
   "cell_type": "code",
   "execution_count": 22,
   "metadata": {},
   "outputs": [
    {
     "name": "stdin",
     "output_type": "stream",
     "text": [
      "Cuantos kilometros recorriste con la motocicleta? 260\n",
      "Cuantos litros de combustible consumiste? 12.5\n"
     ]
    },
    {
     "name": "stdout",
     "output_type": "stream",
     "text": [
      "El consumo por kilómetro es de 0.04807692307692308\n"
     ]
    }
   ],
   "source": [
    "km=input(\"Cuantos kilometros recorriste con la motocicleta?\")\n",
    "lit=input(\"Cuantos litros de combustible consumiste?\")\n",
    "\n",
    "resultado=float(lit)/float(km)\n",
    "\n",
    "print(\"El consumo por kilómetro es de\" ,resultado)\n",
    "\n"
   ]
  },
  {
   "cell_type": "markdown",
   "metadata": {},
   "source": [
    "### 2.\n",
    "Escriba un programa que pida los coeficientes de una ecuación de segundo grado <code>(a x² + b x + c = 0)</code> y escriba la solución.\n",
    "\n",
    "Se recuerda que una ecuación de segundo grado puede no tener solución, tener una solución única, tener dos soluciones o que todos los números sean solución."
   ]
  },
  {
   "cell_type": "markdown",
   "metadata": {},
   "source": [
    "<img src='https://i.pinimg.com/originals/d3/f7/01/d3f701528ad56ce0f5a98d7c91722fd7.png'>"
   ]
  },
  {
   "cell_type": "markdown",
   "metadata": {},
   "source": [
    "Su programa debe indicar:\n",
    "- En caso la ecuación cuadrática tenga solución real, su programa debe brindar la solución\n",
    "- En caso su ecuación no tenga solución real, su programa debe brindar un mensaje que diga \"Ecuación no presenta solución real\""
   ]
  },
  {
   "cell_type": "code",
   "execution_count": 10,
   "metadata": {},
   "outputs": [
    {
     "name": "stdin",
     "output_type": "stream",
     "text": [
      "primer coeficiente 4\n",
      "segundo coeficiente 6\n",
      "tercer coeficiente 2\n"
     ]
    },
    {
     "name": "stdout",
     "output_type": "stream",
     "text": [
      "4.0\n",
      "dos soluciones distintas\n",
      "solucion valor 1:  -0.5\n",
      "solucion valor 2:  -1.0\n"
     ]
    }
   ],
   "source": [
    "while True:\n",
    "    a=float(input(\"primer coeficiente\"))\n",
    "    if a!=0:\n",
    "        break \n",
    "\n",
    "b=float(input(\"segundo coeficiente\"))\n",
    "c=float(input(\"tercer coeficiente\"))\n",
    "disc=(b**2)-(4*a)*c\n",
    "print(disc)\n",
    "\n",
    "\n",
    "#Formulas para hallar el discriminante\n",
    "if disc > 0:\n",
    "    print(\"dos soluciones distintas\")\n",
    "    x1=(-b+((b**2)-(4*a*c))**(1/2))/(2*a)\n",
    "    x2=(-b-((b**2)-(4*a*c))**(1/2))/(2*a)\n",
    "    print (\"solucion valor 1: \" ,x1,)\n",
    "    print (\"solucion valor 2: \" ,x2,)\n",
    "elif disc == 0:\n",
    "    x=(-b)/(2*a)\n",
    "    print(\"Una solucion doble\")\n",
    "    print (\"solucion doble valor : \" ,x,)\n",
    "elif disc <0:\n",
    "    print(\"No tiene solucion real\")\n",
    "    \n",
    "    \n"
   ]
  },
  {
   "cell_type": "code",
   "execution_count": 13,
   "metadata": {},
   "outputs": [
    {
     "name": "stdout",
     "output_type": "stream",
     "text": [
      "-0.5\n",
      "-1.0\n"
     ]
    }
   ],
   "source": [
    "#formula para hallar variable x con los coeficientes dados\n",
    "x1=(-float(b)+((float(b)**2)-(4*float(a)*float(c)))**(1/2))/(2*float(a))\n",
    "x2=(-float(b)-((float(b)**2)-(4*float(a)*float(c)))**(1/2))/(2*float(a))\n",
    "x1=float(x1)\n",
    "x2=float(x2)\n",
    "print(x1)\n",
    "print(x2)"
   ]
  },
  {
   "cell_type": "code",
   "execution_count": null,
   "metadata": {},
   "outputs": [],
   "source": []
  }
 ],
 "metadata": {
  "kernelspec": {
   "display_name": "Python 3",
   "language": "python",
   "name": "python3"
  },
  "language_info": {
   "codemirror_mode": {
    "name": "ipython",
    "version": 3
   },
   "file_extension": ".py",
   "mimetype": "text/x-python",
   "name": "python",
   "nbconvert_exporter": "python",
   "pygments_lexer": "ipython3",
   "version": "3.8.3"
  }
 },
 "nbformat": 4,
 "nbformat_minor": 4
}
